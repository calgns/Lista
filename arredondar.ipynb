{
 "cells": [
  {
   "cell_type": "markdown",
   "metadata": {},
   "source": [
    "## maneiras de se arredondar uma lista."
   ]
  },
  {
   "cell_type": "code",
   "execution_count": 4,
   "metadata": {},
   "outputs": [
    {
     "name": "stdout",
     "output_type": "stream",
     "text": [
      "1| |2| |3| |6| |6| |10| |10| |1635| |"
     ]
    }
   ],
   "source": [
    "# usando for\n",
    "lista = [1,2,3,5.5,6.49,9.99999999,10.11,1634.7455359]\n",
    "# round arredonda para cima se o numero estiver acima de 0.5 ou igual \n",
    "for i in lista:\n",
    "    print(round(i),end='| |')"
   ]
  },
  {
   "cell_type": "code",
   "execution_count": null,
   "metadata": {},
   "outputs": [],
   "source": []
  }
 ],
 "metadata": {
  "kernelspec": {
   "display_name": "Python 3",
   "language": "python",
   "name": "python3"
  },
  "language_info": {
   "codemirror_mode": {
    "name": "ipython",
    "version": 3
   },
   "file_extension": ".py",
   "mimetype": "text/x-python",
   "name": "python",
   "nbconvert_exporter": "python",
   "pygments_lexer": "ipython3",
   "version": "3.8.5"
  }
 },
 "nbformat": 4,
 "nbformat_minor": 4
}
