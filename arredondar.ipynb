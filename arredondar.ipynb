{
 "cells": [
  {
   "cell_type": "markdown",
   "metadata": {},
   "source": [
    "## maneiras de se arredondar uma lista."
   ]
  },
  {
   "cell_type": "code",
   "execution_count": 4,
   "metadata": {},
   "outputs": [
    {
     "name": "stdout",
     "output_type": "stream",
     "text": [
      "1| |2| |3| |6| |6| |10| |10| |1635| |"
     ]
    }
   ],
   "source": [
    "# usando for\n",
    "lista = [1,2,3,5.5,6.49,9.99999999,10.11,1634.7455359]\n",
    "# round arredonda para cima se o numero estiver acima de 0.5 ou igual \n",
    "for i in lista:\n",
    "    print(round(i),end='| |')"
   ]
  },
  {
   "cell_type": "code",
   "execution_count": 9,
   "metadata": {},
   "outputs": [
    {
     "data": {
      "text/plain": [
       "[1, 2, 3, 5.5, 6.5, 10.0, 10.1, 1634.7]"
      ]
     },
     "execution_count": 9,
     "metadata": {},
     "output_type": "execute_result"
    }
   ],
   "source": [
    "# guardando em uma variavel\n",
    "lista2 = [round(i,1) for i in lista]\n",
    "lista2"
   ]
  },
  {
   "cell_type": "code",
   "execution_count": 13,
   "metadata": {},
   "outputs": [
    {
     "name": "stdout",
     "output_type": "stream",
     "text": [
      "indice: 0| De valor:1.00\n",
      "\n",
      "indice: 1| De valor:2.00\n",
      "\n",
      "indice: 2| De valor:3.00\n",
      "\n",
      "indice: 3| De valor:5.50\n",
      "\n",
      "indice: 4| De valor:6.49\n",
      "\n",
      "indice: 5| De valor:10.00\n",
      "\n",
      "indice: 6| De valor:10.11\n",
      "\n",
      "indice: 7| De valor:1634.75\n",
      "\n"
     ]
    }
   ],
   "source": [
    "for i in range(len(lista)):\n",
    "    print(f\"indice: {i}| De valor:{lista[i]:.2f}\")\n",
    "    print()"
   ]
  }
 ],
 "metadata": {
  "kernelspec": {
   "display_name": "Python 3",
   "language": "python",
   "name": "python3"
  },
  "language_info": {
   "codemirror_mode": {
    "name": "ipython",
    "version": 3
   },
   "file_extension": ".py",
   "mimetype": "text/x-python",
   "name": "python",
   "nbconvert_exporter": "python",
   "pygments_lexer": "ipython3",
   "version": "3.8.5"
  }
 },
 "nbformat": 4,
 "nbformat_minor": 4
}
