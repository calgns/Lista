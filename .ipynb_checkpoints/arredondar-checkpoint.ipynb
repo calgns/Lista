{
 "cells": [
  {
   "cell_type": "markdown",
   "metadata": {},
   "source": [
    "## maneiras de se arredondar uma lista.\n",
    "- com for,guardando em variavel, com indicie e enumarate. "
   ]
  },
  {
   "cell_type": "code",
   "execution_count": 4,
   "metadata": {},
   "outputs": [
    {
     "name": "stdout",
     "output_type": "stream",
     "text": [
      "1| |2| |3| |6| |6| |10| |10| |1635| |"
     ]
    }
   ],
   "source": [
    "# usando for\n",
    "lista = [1,2,3,5.5,6.49,9.99999999,10.11,1634.7455359]\n",
    "# round arredonda para cima se o numero estiver acima de 0.5 ou igual \n",
    "for i in lista:\n",
    "    print(round(i),end='| |')"
   ]
  },
  {
   "cell_type": "code",
   "execution_count": 9,
   "metadata": {},
   "outputs": [
    {
     "data": {
      "text/plain": [
       "[1, 2, 3, 5.5, 6.5, 10.0, 10.1, 1634.7]"
      ]
     },
     "execution_count": 9,
     "metadata": {},
     "output_type": "execute_result"
    }
   ],
   "source": [
    "# guardando em uma variavel\n",
    "lista2 = [round(i,1) for i in lista]\n",
    "lista2"
   ]
  },
  {
   "cell_type": "code",
   "execution_count": 15,
   "metadata": {},
   "outputs": [
    {
     "name": "stdout",
     "output_type": "stream",
     "text": [
      "indice: 0| De valor:1.00\n",
      "indice: 1| De valor:2.00\n",
      "indice: 2| De valor:3.00\n",
      "indice: 3| De valor:5.50\n",
      "indice: 4| De valor:6.49\n",
      "indice: 5| De valor:10.00\n",
      "indice: 6| De valor:10.11\n",
      "indice: 7| De valor:1634.75\n"
     ]
    }
   ],
   "source": [
    "# for len range e indice \n",
    "for i in range(len(lista)):\n",
    "    print(f\"indice: {i}| De valor:{lista[i]:.2f}\")"
   ]
  },
  {
   "cell_type": "code",
   "execution_count": 29,
   "metadata": {},
   "outputs": [
    {
     "data": {
      "text/plain": [
       "10"
      ]
     },
     "execution_count": 29,
     "metadata": {},
     "output_type": "execute_result"
    }
   ],
   "source": [
    "# no metodo acima você consegue ver indice dentro de lista um valor dentro de lista\n",
    "# porque, se você colocar um indice de cada vez ele não vai dar error uma vez que você esta pegando \n",
    "# apenas um valor de cada vez\n",
    "# como você vera agora\n",
    "b=lista[6]\n",
    "round(b)\n",
    "# se for um de cada vez dara certo, mas mais que isso não"
   ]
  },
  {
   "cell_type": "code",
   "execution_count": 36,
   "metadata": {},
   "outputs": [
    {
     "name": "stdout",
     "output_type": "stream",
     "text": [
      "1| 2| 3| 6| 6| 10| 10| 1635| "
     ]
    }
   ],
   "source": [
    "# o valor, a, esta sempre somando enquanto tiver variavel na lista\n",
    "a = 0\n",
    "for i in lista:\n",
    "    print(round(lista[a]),end=\"| \")\n",
    "    a+=1"
   ]
  },
  {
   "cell_type": "code",
   "execution_count": 41,
   "metadata": {},
   "outputs": [
    {
     "name": "stdout",
     "output_type": "stream",
     "text": [
      "1º, elemento = 1.00\n",
      "2º, elemento = 2.00\n",
      "3º, elemento = 3.00\n",
      "4º, elemento = 5.50\n",
      "5º, elemento = 6.49\n",
      "6º, elemento = 10.00\n",
      "7º, elemento = 10.11\n",
      "8º, elemento = 1634.75\n"
     ]
    }
   ],
   "source": [
    "for i,n in enumerate(lista, start=1):\n",
    "    print(f\"{i}º, elemento = {n:.2f}\")"
   ]
  },
  {
   "cell_type": "code",
   "execution_count": 43,
   "metadata": {},
   "outputs": [
    {
     "name": "stdout",
     "output_type": "stream",
     "text": [
      "(0, 1)\n",
      "(1, 2)\n",
      "(2, 3)\n",
      "(3, 5.5)\n",
      "(4, 6.49)\n",
      "(5, 9.99999999)\n",
      "(6, 10.11)\n",
      "(7, 1634.7455359)\n"
     ]
    }
   ],
   "source": [
    "# caso você coloque apenas uma variavel ele dara (indicie,valor) dentro de uma tupla\n",
    "# e ele não vai arredondar pois tupla não se arredonda\n",
    "# e o start é mais pra começar mostrando 1 inves de 0  no começo pra estilizar um pouco\n",
    "for i in enumerate(lista): # ola\n",
    "    print(f\"{i}\")"
   ]
  }
 ],
 "metadata": {
  "kernelspec": {
   "display_name": "Python 3",
   "language": "python",
   "name": "python3"
  },
  "language_info": {
   "codemirror_mode": {
    "name": "ipython",
    "version": 3
   },
   "file_extension": ".py",
   "mimetype": "text/x-python",
   "name": "python",
   "nbconvert_exporter": "python",
   "pygments_lexer": "ipython3",
   "version": "3.8.5"
  }
 },
 "nbformat": 4,
 "nbformat_minor": 4
}
